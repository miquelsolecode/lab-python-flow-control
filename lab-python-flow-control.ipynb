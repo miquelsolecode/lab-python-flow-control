{
 "cells": [
  {
   "cell_type": "markdown",
   "id": "d3bfc191-8885-42ee-b0a0-bbab867c6f9f",
   "metadata": {
    "tags": []
   },
   "source": [
    "# Lab | Flow Control"
   ]
  },
  {
   "cell_type": "code",
   "execution_count": null,
   "id": "766aaf0c-256f-45e7-87a2-a9542a4f7680",
   "metadata": {},
   "outputs": [],
   "source": [
    "## Exercise: Managing Customer Orders Optimized\n",
    "\n",
    "In the last lab, you were starting an online store that sells various products. To ensure smooth operations, you developed a program that manages customer orders and inventory.\n",
    "\n",
    "You did so without using flow control. Let's go a step further and improve this code.\n",
    "\n",
    "Follow the steps below to complete the exercise:\n",
    "\n",
    "1. Look at your code from the lab data structures, and improve repeated code with loops.\n",
    "\n",
    "2. Instead of asking the user to input the name of three products that a customer wants to order, do the following:\n",
    "    \n",
    "    a. Prompt the user to enter the name of a product that a customer wants to order.\n",
    "    \n",
    "    b. Add the product name to the \"customer_orders\" set.\n",
    "    \n",
    "    c. Ask the user if they want to add another product (yes/no).\n",
    "    \n",
    "    d. Continue the loop until the user does not want to add another product.\n",
    "\n",
    "3. Instead of updating the inventory by subtracting 1 from the quantity of each product, only do it for  the products that were ordered (those in \"customer_orders\")."
   ]
  },
  {
   "cell_type": "code",
   "execution_count": 3,
   "id": "a9ab3e03-e439-45f2-b656-69ee796229a6",
   "metadata": {},
   "outputs": [],
   "source": [
    "products = [\"t-shirt\", \"mug\", \"hat\", \"book\", \"keychain\"]\n",
    "inventory = {'t-shirt': 5, 'mug': 5, 'hat': 5, 'book': 5, 'keychain': 5}\n",
    "customer_order = set()"
   ]
  },
  {
   "cell_type": "code",
   "execution_count": 4,
   "id": "a081e246-5685-46de-ae5a-828f295ec7fc",
   "metadata": {},
   "outputs": [
    {
     "name": "stdin",
     "output_type": "stream",
     "text": [
      "order a product hat\n"
     ]
    }
   ],
   "source": [
    "customer_input = input(\"order a product\")\n",
    "if customer_input in products:\n",
    "    customer_order.add(customer_input)\n",
    "else:\n",
    "    print(\"Please insert a valid order\")  "
   ]
  },
  {
   "cell_type": "code",
   "execution_count": 5,
   "id": "49e27ec3-1e82-451c-9956-62f07bf8aafd",
   "metadata": {},
   "outputs": [
    {
     "name": "stdin",
     "output_type": "stream",
     "text": [
      "do you want to add another product? yes\n",
      "order a product gun\n"
     ]
    },
    {
     "name": "stdout",
     "output_type": "stream",
     "text": [
      "Please insert a valid order\n"
     ]
    },
    {
     "name": "stdin",
     "output_type": "stream",
     "text": [
      "do you want to add another product? yes\n",
      "order a product mug\n",
      "do you want to add another product? no\n"
     ]
    },
    {
     "name": "stdout",
     "output_type": "stream",
     "text": [
      "customer order {'hat', 'mug'}\n"
     ]
    }
   ],
   "source": [
    "other_product = input(\"do you want to add another product?\")\n",
    "\n",
    "while other_product == \"yes\": \n",
    "    customer_input2 = input(\"order a product\")\n",
    "    if customer_input2 in products:\n",
    "        customer_order.add(customer_input2)\n",
    "    #elif other_product == \"no\":\n",
    "        #print(\"Thank you for shopping with us!\")\n",
    "    \n",
    "    else:\n",
    "      print(\"Please insert a valid order\") \n",
    "    other_product = input(\"do you want to add another product?\")        \n",
    "print(\"customer order\", customer_order)\n"
   ]
  },
  {
   "cell_type": "code",
   "execution_count": 6,
   "id": "eca6c60f-d43c-4b60-b918-067aeab777fc",
   "metadata": {},
   "outputs": [],
   "source": [
    "for product in customer_order:\n",
    "    if inventory[product] <1:\n",
    "        print(\"there's no more stock available\")\n",
    "    else:\n",
    "        inventory[product] -= 1\n"
   ]
  },
  {
   "cell_type": "code",
   "execution_count": 7,
   "id": "3699dd7b-3f07-4b4b-8301-34bb3b6dd3a1",
   "metadata": {},
   "outputs": [
    {
     "name": "stdout",
     "output_type": "stream",
     "text": [
      "{'t-shirt': 5, 'mug': 4, 'hat': 4, 'book': 5, 'keychain': 5}\n"
     ]
    }
   ],
   "source": [
    "print(inventory)"
   ]
  },
  {
   "cell_type": "code",
   "execution_count": null,
   "id": "4a67dacd-9287-4925-9e28-856a02a77e51",
   "metadata": {},
   "outputs": [],
   "source": []
  }
 ],
 "metadata": {
  "kernelspec": {
   "display_name": "Python 3 (ipykernel)",
   "language": "python",
   "name": "python3"
  },
  "language_info": {
   "codemirror_mode": {
    "name": "ipython",
    "version": 3
   },
   "file_extension": ".py",
   "mimetype": "text/x-python",
   "name": "python",
   "nbconvert_exporter": "python",
   "pygments_lexer": "ipython3",
   "version": "3.11.7"
  }
 },
 "nbformat": 4,
 "nbformat_minor": 5
}
